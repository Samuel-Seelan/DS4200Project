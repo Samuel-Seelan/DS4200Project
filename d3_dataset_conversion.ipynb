{
 "cells": [
  {
   "cell_type": "code",
   "execution_count": null,
   "id": "a82b6f70",
   "metadata": {},
   "outputs": [],
   "source": [
    "import pandas as pd"
   ]
  },
  {
   "cell_type": "code",
   "execution_count": 3,
   "id": "16492970",
   "metadata": {},
   "outputs": [
    {
     "name": "stdout",
     "output_type": "stream",
     "text": [
      "Exported: d3_data.csv\n"
     ]
    }
   ],
   "source": [
    "sfo_df = pd.read_csv(\"Air_Traffic_Passenger_Statistics.csv\")\n",
    "\n",
    "sfo_df[\"Date\"] = pd.to_datetime(sfo_df[\"Activity Period\"], format=\"%Y%m\")\n",
    "sfo_df[\"Year-Month\"] = sfo_df[\"Date\"].dt.to_period(\"M\").astype(str)\n",
    "\n",
    "# drop incomplete rows\n",
    "df = sfo_df[[\"Year-Month\", \"Operating Airline\", \"GEO Region\", \"Passenger Count\"]].dropna()\n",
    "\n",
    "df = df.groupby([\"Operating Airline\", \"Year-Month\", \"GEO Region\"], as_index=False).agg({\n",
    "    \"Passenger Count\": \"sum\"\n",
    "})\n",
    "\n",
    "# normalise per airline for heatmap colour scale for D3\n",
    "df[\"Normalised Count\"] = df.groupby(\"Operating Airline\")[\"Passenger Count\"].transform(\n",
    "    lambda x: x / x.max()\n",
    ")\n",
    "\n",
    "# limit to top 10 airlines by total passenger volume\n",
    "top_airlines = df.groupby(\"Operating Airline\")[\"Passenger Count\"].sum().nlargest(10).index.tolist()\n",
    "df = df[df[\"Operating Airline\"].isin(top_airlines)]\n",
    "\n",
    "# export for D3 usage\n",
    "df.to_csv(\"d3_data.csv\", index=False)\n",
    "print(\"Exported: d3_data.csv\")\n"
   ]
  },
  {
   "cell_type": "code",
   "execution_count": null,
   "id": "f60b9b73",
   "metadata": {},
   "outputs": [],
   "source": []
  }
 ],
 "metadata": {
  "kernelspec": {
   "display_name": "Python 3 (ipykernel)",
   "language": "python",
   "name": "python3"
  },
  "language_info": {
   "codemirror_mode": {
    "name": "ipython",
    "version": 3
   },
   "file_extension": ".py",
   "mimetype": "text/x-python",
   "name": "python",
   "nbconvert_exporter": "python",
   "pygments_lexer": "ipython3",
   "version": "3.11.4"
  }
 },
 "nbformat": 4,
 "nbformat_minor": 5
}
